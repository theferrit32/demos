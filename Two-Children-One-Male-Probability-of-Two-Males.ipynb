{
 "cells": [
  {
   "cell_type": "code",
   "execution_count": 1,
   "id": "a9c52b2a",
   "metadata": {},
   "outputs": [],
   "source": [
    "################\n",
    "# Mr. Smith has two children. At least one of them is a boy. What is the probability both are boys?\n",
    "# \n",
    "# https://twitter.com/RandomSprint/status/1547237398110691328\n",
    "################"
   ]
  },
  {
   "cell_type": "code",
   "execution_count": 2,
   "id": "599217e1",
   "metadata": {},
   "outputs": [],
   "source": [
    "import random\n",
    "\n",
    "random.seed(1)\n",
    "\n",
    "choices = [\"M\", \"F\"]\n",
    "sample_set_size = 100000"
   ]
  },
  {
   "cell_type": "code",
   "execution_count": 3,
   "id": "ed588fa6",
   "metadata": {},
   "outputs": [],
   "source": [
    "samples = [(random.choice(choices), random.choice(choices)) for i in range(sample_set_size)]"
   ]
  },
  {
   "cell_type": "code",
   "execution_count": 4,
   "id": "5e2b12ac",
   "metadata": {},
   "outputs": [],
   "source": [
    "at_least_one_M = list(filter(lambda coll: \"M\" in coll, samples))"
   ]
  },
  {
   "cell_type": "code",
   "execution_count": 5,
   "id": "69f85f51",
   "metadata": {},
   "outputs": [],
   "source": [
    "def all_equal_to(coll, elem):\n",
    "    s = set(coll)\n",
    "    return list(s)[0] == elem and len(s) == 1\n",
    "\n",
    "all_M_among_at_least_one_M = list(filter(lambda coll: all_equal_to(coll, \"M\"), at_least_one_M))"
   ]
  },
  {
   "cell_type": "code",
   "execution_count": 6,
   "id": "0bb2f7ae",
   "metadata": {},
   "outputs": [
    {
     "name": "stdout",
     "output_type": "stream",
     "text": [
      "0.33\n"
     ]
    }
   ],
   "source": [
    "result = len(all_M_among_at_least_one_M) / len(at_least_one_M)\n",
    "print(\"{:.2f}\".format(result))"
   ]
  }
 ],
 "metadata": {
  "kernelspec": {
   "display_name": "Python 3 (ipykernel)",
   "language": "python",
   "name": "python3"
  },
  "language_info": {
   "codemirror_mode": {
    "name": "ipython",
    "version": 3
   },
   "file_extension": ".py",
   "mimetype": "text/x-python",
   "name": "python",
   "nbconvert_exporter": "python",
   "pygments_lexer": "ipython3",
   "version": "3.9.13"
  }
 },
 "nbformat": 4,
 "nbformat_minor": 5
}
