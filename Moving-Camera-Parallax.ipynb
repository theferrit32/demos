{
 "cells": [
  {
   "cell_type": "markdown",
   "id": "5e443233",
   "metadata": {},
   "source": [
    "This is the simplest parallax scenario in which the object is not moving at all. If the object is moving, it just adjusts the resulting apparent speed and direction relative to the background. Assuming the object is not moving very fast, and depending on the distances and speed of the drone specified, if the parallax-based apparent speed is significantly larger than the ground speed of the object (for a balloon this is the wind speed), this won't impact the observer's perception of the object's motion that much if the video is pretty zoomed in, because there are not a lot of reference points to judge the linearity of the motion on. Someone who knows how to merge frames of a video together in 3D space would be able to construct the path using the pixels in the background of each frame.\n",
    "\n",
    "The figure below has some example values I made up (distance units are in 1000ft). You can change them in the cell below to try out different situations. The calculations use these variable names.\n",
    "\n",
    "All calculations are in degrees.\n",
    "\n",
    "\n",
    "Image of the setup of the scenario. The drone is filming the object below, which is some distance above the ground, and some distance horizontally from the drone. The drone then moves some distance horizontally in the direction of the object. The ground behind the object from the perspective of the drone changes by `h` distance.\n",
    "\n",
    "\n",
    "<br>\n",
    "<div>\n",
    "<img src=\"assets/parallax-scenario.jpeg\" width=\"700\"/>\n",
    "</div>"
   ]
  },
  {
   "cell_type": "code",
   "execution_count": 1,
   "id": "b99bcf49",
   "metadata": {},
   "outputs": [],
   "source": [
    "# Static values of the scenario\n",
    "\n",
    "## Distances. These should be in feet in order for fps<->mph conversion to work\n",
    "height_of_drone = 20000\n",
    "height_of_object = 5000\n",
    "horizontal_distance_from_drone_to_object = 12000 # starting distance. 6 + 6 in original diagram\n",
    "horizontal_motion_of_drone = 6000\n",
    "\n",
    "## Time/speed\n",
    "speed_of_drone = 200 # mph"
   ]
  },
  {
   "cell_type": "code",
   "execution_count": 2,
   "id": "e0b353e8",
   "metadata": {},
   "outputs": [],
   "source": [
    "import math\n",
    "def arctan_deg(x):\n",
    "    \"\"\"\n",
    "    arctan in degrees instead of radians\n",
    "    x: distance ratio\n",
    "    return: angle in degrees\n",
    "    \"\"\"\n",
    "    return math.atan(x) * 180/math.pi\n",
    "def tan_deg(x):\n",
    "    \"\"\"\n",
    "    tan in degrees instead of radians\n",
    "    x: input angle in degrees\n",
    "    return: distance\n",
    "    \"\"\"\n",
    "    return math.tan(x*math.pi/180)"
   ]
  },
  {
   "cell_type": "code",
   "execution_count": 3,
   "id": "5d89dbf1",
   "metadata": {},
   "outputs": [
    {
     "name": "stdout",
     "output_type": "stream",
     "text": [
      "a=51.34019174590991\n",
      "b=38.65980825409009\n",
      "e=21.80140948635181\n",
      "d=16.858398767738276\n",
      "f=2000.0\n",
      "g=4000.0\n",
      "Apparent motion of object relative to background = 2000.0 feet\n"
     ]
    }
   ],
   "source": [
    "height_diff_drone_to_obj = height_of_drone - height_of_object\n",
    "a = arctan_deg(height_diff_drone_to_obj / horizontal_distance_from_drone_to_object)\n",
    "b = 90 - a\n",
    "e = arctan_deg((horizontal_distance_from_drone_to_object - horizontal_motion_of_drone) / height_diff_drone_to_obj)\n",
    "d = 90 - a - e\n",
    "\n",
    "# original: tan(e) = f/5\n",
    "f = abs(height_of_object * tan_deg(e))\n",
    "\n",
    "# original: tan(e + d) = g/5\n",
    "g = abs(height_of_object * tan_deg(e + d))\n",
    "\n",
    "h = g - f\n",
    "\n",
    "print(f\"a={a}\")\n",
    "print(f\"b={b}\")\n",
    "print(f\"e={e}\")\n",
    "print(f\"d={d}\")\n",
    "print(f\"f={f}\")\n",
    "print(f\"g={g}\")\n",
    "\n",
    "print(f\"Apparent motion of object relative to background = {h} feet\")\n"
   ]
  },
  {
   "cell_type": "code",
   "execution_count": 4,
   "id": "f0c141d9",
   "metadata": {},
   "outputs": [
    {
     "name": "stdout",
     "output_type": "stream",
     "text": [
      "Speed of drone = 200 mph\n",
      "Travel time = 20.454545454545457 seconds\n",
      "Actual speed of object relative to the ground = 0 mph\n",
      "Apparent (parallax) speed of object relative to background = 66.66666666666667 mph\n"
     ]
    }
   ],
   "source": [
    "# speed = distance / time\n",
    "def fps_to_mph(x):\n",
    "    return x / 5280 * 60 * 60\n",
    "def mph_to_fps(x):\n",
    "    return x * 5280 / 60 / 60\n",
    "\n",
    "speed_of_drone_fps = mph_to_fps(speed_of_drone)\n",
    "time_drone_travels = horizontal_motion_of_drone / (speed_of_drone_fps) \n",
    "\n",
    "speed_of_object_apparent = fps_to_mph(h / time_drone_travels)\n",
    "\n",
    "print(f\"Speed of drone = {speed_of_drone} mph\")\n",
    "print(f\"Travel time = {time_drone_travels} seconds\")\n",
    "print(f\"Actual speed of object relative to the ground = 0 mph\")\n",
    "print(f\"Apparent (parallax) speed of object relative to background = {speed_of_object_apparent} mph\")"
   ]
  },
  {
   "cell_type": "code",
   "execution_count": null,
   "id": "4018df3a",
   "metadata": {},
   "outputs": [],
   "source": []
  }
 ],
 "metadata": {
  "kernelspec": {
   "display_name": "Python 3 (ipykernel)",
   "language": "python",
   "name": "python3"
  },
  "language_info": {
   "codemirror_mode": {
    "name": "ipython",
    "version": 3
   },
   "file_extension": ".py",
   "mimetype": "text/x-python",
   "name": "python",
   "nbconvert_exporter": "python",
   "pygments_lexer": "ipython3",
   "version": "3.9.16"
  }
 },
 "nbformat": 4,
 "nbformat_minor": 5
}
