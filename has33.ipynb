{
 "cells": [
  {
   "cell_type": "code",
   "execution_count": 3,
   "metadata": {},
   "outputs": [
    {
     "name": "stdout",
     "output_type": "stream",
     "text": [
      "time_it(for_loop_runnable)=0.002321958541870117\n",
      "time_it(zip_list_runnable)=8.192360877990723\n",
      "time_it(zip_runnable)=0.1879286766052246\n",
      "time_it(just_slice_runnable)=0.17090487480163574\n"
     ]
    }
   ],
   "source": [
    "import random\n",
    "import time\n",
    "import functools\n",
    "\n",
    "random.seed(0)\n",
    "\n",
    "def has33(number_list):\n",
    "    for i in range(len(number_list)-1):\n",
    "        if number_list[i] == 3 and number_list[i+1] == 3:\n",
    "            return True\n",
    "\n",
    "def has33_zip(number_list):\n",
    "    return (3, 3) in zip(number_list, number_list[1:])\n",
    "\n",
    "def has33_zip_list(number_list):\n",
    "    return (3, 3) in list(zip(number_list, number_list[1:]))\n",
    "\n",
    "\n",
    "def assert_it(fn, inp_outp):\n",
    "    vals = inp_outp[0]\n",
    "    expected = inp_outp[1]\n",
    "    if expected:\n",
    "        assert fn(vals)\n",
    "    else:\n",
    "        assert not fn(vals)\n",
    "\n",
    "vals = [\n",
    "    [[], False],\n",
    "    [[1], False],\n",
    "    [[1, 1], False],\n",
    "    [[1, 3], False],\n",
    "    [[3, 1], False],\n",
    "    [[3, 3], True],\n",
    "    [[1, 3, 3], True],\n",
    "    [[1, 3, 3, 3], True],\n",
    "    [[1, 3, 1, 3], False],\n",
    "]\n",
    "\n",
    "for testcase in vals:\n",
    "    assert_it(has33, testcase)\n",
    "    assert_it(has33_zip, testcase)\n",
    "    assert_it(has33_zip_list, testcase)\n",
    "\n",
    "number_list = [random.randint(0, 9) for i in range(100000)]\n",
    "\n",
    "for_loop_runnable = functools.partial(has33, number_list)\n",
    "zip_list_runnable = functools.partial(has33_zip_list, number_list)\n",
    "zip_runnable = functools.partial(has33_zip, number_list)\n",
    "just_slice_runnable = functools.partial(lambda L: L[1:], number_list)\n",
    "\n",
    "def time_it(runnable, count=1000):\n",
    "    start = time.time()\n",
    "    for i in range(count):\n",
    "        runnable()\n",
    "    end = time.time()\n",
    "    return end - start\n",
    "\n",
    "\n",
    "print(f\"{time_it(for_loop_runnable)=}\")\n",
    "print(f\"{time_it(zip_list_runnable)=}\")\n",
    "print(f\"{time_it(zip_runnable)=}\")\n",
    "print(f\"{time_it(just_slice_runnable)=}\")\n"
   ]
  },
  {
   "cell_type": "code",
   "execution_count": null,
   "metadata": {},
   "outputs": [],
   "source": []
  }
 ],
 "metadata": {
  "kernelspec": {
   "display_name": "venv",
   "language": "python",
   "name": "python3"
  },
  "language_info": {
   "codemirror_mode": {
    "name": "ipython",
    "version": 3
   },
   "file_extension": ".py",
   "mimetype": "text/x-python",
   "name": "python",
   "nbconvert_exporter": "python",
   "pygments_lexer": "ipython3",
   "version": "3.11.6"
  }
 },
 "nbformat": 4,
 "nbformat_minor": 2
}
